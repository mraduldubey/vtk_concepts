{
 "cells": [
  {
   "cell_type": "code",
   "execution_count": 13,
   "id": "9cf34d25-66df-4306-b3c7-d1ce1ec9af44",
   "metadata": {},
   "outputs": [],
   "source": [
    "import vtk"
   ]
  },
  {
   "cell_type": "code",
   "execution_count": 14,
   "id": "9b6e76ce-323f-4501-ad14-0b3709d58e02",
   "metadata": {},
   "outputs": [],
   "source": [
    "def scaleSTL(filenameSTL, opacity=0.75, scale=(1,1,1), transform_first=0, mesh_color=\"gold\"):\n",
    "    colors = vtk.vtkNamedColors()\n",
    "\n",
    "    reader = vtk.vtkSTLReader()\n",
    "    reader.SetFileName(filenameSTL)\n",
    "    reader.Update()\n",
    "    \n",
    "    transform = vtk.vtkTransform()\n",
    "    \n",
    "    if transform_first == 1:\n",
    "        transform.Translate((100,200,300))\n",
    "        \n",
    "    transform.Scale(scale)\n",
    "    \n",
    "    if transform_first == 2:\n",
    "        transform.PostMultiply()\n",
    "        transform.Translate((100,200,300))  \n",
    "    \n",
    "    transformFilter = vtk.vtkTransformPolyDataFilter()\n",
    "    transformFilter.SetInputConnection(reader.GetOutputPort())\n",
    "    transformFilter.SetTransform(transform)\n",
    "    transformFilter.Update()\n",
    "\n",
    "    mapper = vtk.vtkPolyDataMapper()\n",
    "    mapper.SetInputConnection(transformFilter.GetOutputPort())\n",
    "\n",
    "    actor = vtk.vtkActor()\n",
    "    actor.SetMapper(mapper)\n",
    "    actor.GetProperty().SetColor(colors.GetColor3d(mesh_color))\n",
    "    actor.GetProperty().SetOpacity(opacity)\n",
    "\n",
    "    return actor\n",
    "\n",
    "def render_scene(my_actor_list):\n",
    "    renderer = vtk.vtkRenderer()\n",
    "    for arg in my_actor_list:\n",
    "        renderer.AddActor(arg)\n",
    "    namedColors = vtk.vtkNamedColors()\n",
    "    renderer.SetBackground(namedColors.GetColor3d(\"SlateGray\"))\n",
    "\n",
    "    window = vtk.vtkRenderWindow()\n",
    "    window.SetWindowName(\"Closed Volume\")\n",
    "    window.AddRenderer(renderer)\n",
    "\n",
    "    interactor = vtk.vtkRenderWindowInteractor()\n",
    "    interactor.SetRenderWindow(window)\n",
    "\n",
    "    # Visualize\n",
    "    window.Render()\n",
    "    interactor.Start()"
   ]
  },
  {
   "cell_type": "code",
   "execution_count": 16,
   "id": "6438f0a6-57d8-46d6-8394-f1edf207d2e8",
   "metadata": {},
   "outputs": [],
   "source": [
    "filename = \"Liver1DeformedSurface.stl\"\n",
    "scale01 = (1, 1, 1)\n",
    "scale02 = (0.5, 0.5, 0.5)\n",
    "my_list = []\n",
    "my_list.append(scaleSTL(filename, 0.75, scale01, 0, \"Gold\"))\n",
    "my_list.append(scaleSTL(filename, 0.75, scale02, 1, \"DarkGreen\"))\n",
    "my_list.append(scaleSTL(filename, 0.75, scale02, 2,  \"IndianRed\"))\n",
    "\n",
    "render_scene(my_list)"
   ]
  },
  {
   "cell_type": "code",
   "execution_count": null,
   "id": "92c1b780-c430-4ac1-ae4d-d7b38fdee54c",
   "metadata": {},
   "outputs": [],
   "source": []
  }
 ],
 "metadata": {
  "kernelspec": {
   "display_name": "Python 3 (ipykernel)",
   "language": "python",
   "name": "python3"
  },
  "language_info": {
   "codemirror_mode": {
    "name": "ipython",
    "version": 3
   },
   "file_extension": ".py",
   "mimetype": "text/x-python",
   "name": "python",
   "nbconvert_exporter": "python",
   "pygments_lexer": "ipython3",
   "version": "3.8.8"
  }
 },
 "nbformat": 4,
 "nbformat_minor": 5
}
